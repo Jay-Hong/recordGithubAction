{
 "cells": [
  {
   "cell_type": "code",
   "execution_count": null,
   "id": "d69bc4b4",
   "metadata": {},
   "outputs": [],
   "source": [
    "import requests\n",
    "from bs4 import BeautifulSoup\n",
    "\n",
    "response = requests.get(\"http://paullab.synology.me/stock.html\")\n",
    "\n",
    "response.encoding = 'utf-8'\n",
    "html = response.text\n",
    "\n",
    "soup = BeautifulSoup(html, 'html.parser')\n",
    "\n",
    "oneStep = soup.select('.main')[2]\n",
    "twoStep = oneStep.select('tbody > tr')[1:]\n",
    "\n",
    "날짜 = []\n",
    "종가 = []\n",
    "전일비 = []\n",
    "거래량 = []\n",
    "\n",
    "for i in twoStep:\n",
    "    날짜.append(i.select('td')[0].text)\n",
    "    종가.append(int(i.select('td')[1].text.replace(',', '')))\n",
    "    전일비.append(int(i.select('td')[2].text.replace(',', '')))\n",
    "    거래량.append(int(i.select('td')[6].text.replace(',', '')))\n",
    "\n",
    "l = []\n",
    "\n",
    "for i in range(len(날짜)):\n",
    "    l.append({\n",
    "        '날짜':날짜[i],\n",
    "        '종가':종가[i],\n",
    "        '전일비':전일비[i],\n",
    "        '거래량':거래량[i],\n",
    "        })\n",
    "\n",
    "print(l)"
   ]
  }
 ],
 "metadata": {
  "kernelspec": {
   "display_name": "Python 3 (ipykernel)",
   "language": "python",
   "name": "python3"
  },
  "language_info": {
   "codemirror_mode": {
    "name": "ipython",
    "version": 3
   },
   "file_extension": ".py",
   "mimetype": "text/x-python",
   "name": "python",
   "nbconvert_exporter": "python",
   "pygments_lexer": "ipython3",
   "version": "3.10.9"
  }
 },
 "nbformat": 4,
 "nbformat_minor": 5
}
